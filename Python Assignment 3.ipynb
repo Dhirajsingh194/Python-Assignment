{
 "cells": [
  {
   "cell_type": "code",
   "execution_count": 6,
   "id": "0bdc272f",
   "metadata": {},
   "outputs": [
    {
     "name": "stdout",
     "output_type": "stream",
     "text": [
      "Provide the number : 21\n",
      "List of First n Natural numbers are: [1, 2, 3, 4, 5, 6, 7, 8, 9, 10, 11, 12, 13, 14, 15, 16, 17, 18, 19, 20, 21]\n",
      "Sum of List elements are : 231\n"
     ]
    }
   ],
   "source": [
    "#Question 1.1 Answer:\n",
    "\n",
    "def myreduce(num):\n",
    "    num_list=list(range(1,num+1))\n",
    "    sum_of_elements=0 \n",
    "    for i in num_list:\n",
    "        sum_of_elements+=i     \n",
    "    return num_list,sum_of_elements\n",
    "\n",
    "number=int(input(\"Provide the number : \"))\n",
    "\n",
    "output_value=myreduce(number)\n",
    "\n",
    "print(\"List of First n Natural numbers are:\",output_value[0])\n",
    "print(\"Sum of List elements are :\",output_value[1])  "
   ]
  },
  {
   "cell_type": "code",
   "execution_count": 7,
   "id": "dc92af46",
   "metadata": {},
   "outputs": [
    {
     "name": "stdout",
     "output_type": "stream",
     "text": [
      "Input:\n",
      "Provide the number: 15\n",
      "List of numbers: [1, 2, 3, 4, 5, 6, 7, 8, 9, 10, 11, 12, 13, 14, 15]\n",
      "List of Even numbers, which are multiples of 5 are: [10]\n",
      "List of Odd numbers, which are multiples of 5 are: [5, 15]\n"
     ]
    }
   ],
   "source": [
    "#Question 1.2 Answer\n",
    "\n",
    "print(\"Input:\")\n",
    "number=int(input(\"Provide the number: \"))\n",
    "num_list=list(range(1,number+1))\n",
    "def myfilter(num_list):\n",
    "    num_even_list=[]\n",
    "    num_odd_list=[]\n",
    "    \n",
    "    for i in num_list:\n",
    "        if(i%5==0):\n",
    "            if(i%2==0):\n",
    "                num_even_list.append(i)\n",
    "            else:\n",
    "                num_odd_list.append(i)                \n",
    "    return num_even_list,num_odd_list\n",
    "output_value=myfilter(num_list)\n",
    "print(\"List of numbers:\",num_list)\n",
    "print(\"List of Even numbers, which are multiples of 5 are:\",output_value[0])\n",
    "print(\"List of Odd numbers, which are multiples of 5 are:\",output_value[1])"
   ]
  },
  {
   "cell_type": "code",
   "execution_count": 13,
   "id": "6d50ad0e",
   "metadata": {},
   "outputs": [
    {
     "name": "stdout",
     "output_type": "stream",
     "text": [
      "['x', 'xx', 'xxx', 'xxxx', 'y', 'yy', 'yyy', 'yyyy', 'z', 'zz', 'zzz', 'zzzz']\n",
      "['x', 'y', 'z', 'xx', 'yy', 'zz', 'xxx', 'yyy', 'zzz', 'xxxx', 'yyyy', 'zzzz']\n",
      "[[2], [3], [4], [3], [4], [5], [4], [5], [6]] [[2, 3, 4, 5], [3, 4, 5, 6], [4, 5, 6, 7], [5, 6, 7, 8]]\n",
      "[(1, 1), (2, 1), (3, 1), (1, 2), (2, 2), (3, 2), (1, 3), (2, 3), (3, 3)]\n"
     ]
    }
   ],
   "source": [
    "#Question 2 Answer\n",
    "\n",
    "char_1=list('xyz')\n",
    "char_2=[x*n for x in char_1 for n in range(1,5) ]\n",
    "print(char_2)\n",
    "\n",
    "char_3=[x*n for n in range(1,5) for x in char_1 ]\n",
    "print(char_3)\n",
    "\n",
    "num=[2,3,4]\n",
    "num_1=[[x+n] for x in num for n in range(0,3)]\n",
    "\n",
    "num_2=[2,3,4,5]\n",
    "num_3=[[x+n for n in range(0,4)] for x in num_2 ]\n",
    "print(num_1,num_3)\n",
    "\n",
    "num_4=[1,2,3]\n",
    "num_5= [(b,a) for a in num_4 for b in num_4]\n",
    "print(num_5)"
   ]
  },
  {
   "cell_type": "code",
   "execution_count": null,
   "id": "483e92b7",
   "metadata": {},
   "outputs": [],
   "source": []
  }
 ],
 "metadata": {
  "kernelspec": {
   "display_name": "Python 3",
   "language": "python",
   "name": "python3"
  },
  "language_info": {
   "codemirror_mode": {
    "name": "ipython",
    "version": 3
   },
   "file_extension": ".py",
   "mimetype": "text/x-python",
   "name": "python",
   "nbconvert_exporter": "python",
   "pygments_lexer": "ipython3",
   "version": "3.8.8"
  }
 },
 "nbformat": 4,
 "nbformat_minor": 5
}
